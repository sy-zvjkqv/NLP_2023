{
 "cells": [
  {
   "cell_type": "code",
   "execution_count": 2,
   "metadata": {},
   "outputs": [
    {
     "name": "stderr",
     "output_type": "stream",
     "text": [
      "The tokenizer class you load from this checkpoint is not the same type as the class this function is called from. It may result in unexpected tokenization. \n",
      "The tokenizer class you load from this checkpoint is 'BertJapaneseTokenizer'. \n",
      "The class this function is called from is 'BertTokenizer'.\n"
     ]
    }
   ],
   "source": [
    "import os\n",
    "import numpy as np\n",
    "import pandas as pd\n",
    "from simpletransformers.classification import ClassificationModel, ClassificationArgs\n",
    "import logging\n",
    "from sklearn.model_selection import train_test_split\n",
    "import torch\n",
    "import random\n",
    "from tqdm import tqdm\n",
    "from transformers import BertJapaneseTokenizer, BertForMaskedLM\n",
    "from torch.utils.data import DataLoader\n",
    "from transformers import BertTokenizer, BertForSequenceClassification,AdamW, BertConfig, BertModel, BertPreTrainedModel\n",
    "import pytorch_lightning as pl\n",
    "#MODEL_NAME='bert-base-cased'\n",
    "from torch import nn\n",
    "import MeCab\n",
    "from sklearn.preprocessing import LabelEncoder\n",
    "batch=2\n",
    "model_name = 'cl-tohoku/bert-base-japanese-whole-word-masking'\n",
    "tokenizer = BertJapaneseTokenizer.from_pretrained(model_name)\n",
    "os.environ[\"CUDA_VISIBLE_DEVICES\"]=\"0\"\n",
    "tagger = MeCab.Tagger()\n",
    "tokenizer = BertTokenizer.from_pretrained('cl-tohoku/bert-base-japanese-whole-word-masking')"
   ]
  },
  {
   "cell_type": "code",
   "execution_count": 5,
   "metadata": {},
   "outputs": [],
   "source": [
    "df = pd.read_csv(\"/home/is/shuntaro-o/dev/persons_move_analysis/data/202271month_per_hour_geotaged_adGeocode_Tokyo.csv\")\n",
    "df_Tokyo = pd.read_csv('/home/is/shuntaro-o/dev/persons_move_analysis/data/use_new_model/202271month_per_hour_noGeo_adEstimate_Tokyo.csv')"
   ]
  },
  {
   "cell_type": "code",
   "execution_count": 7,
   "metadata": {},
   "outputs": [],
   "source": [
    "y = \"code\"\n",
    "L = LabelEncoder()\n",
    "df[y] = L.fit_transform(df[y])\n",
    "num_class = df[y].max() + 1  # オリジンの補正"
   ]
  },
  {
   "cell_type": "code",
   "execution_count": 9,
   "metadata": {},
   "outputs": [],
   "source": [
    "from torch import nn\n",
    "import torch.nn.functional as F\n",
    "from transformers import AutoModel\n",
    "from transformers import BertModel\n",
    "class BertForSequenceClassifier_pl(pl.LightningModule):\n",
    "        \n",
    "    def __init__(self, model_name, lr, num_class):\n",
    "        # model_name: Transformersのモデルの名前\n",
    "        # num_labels: ラベルの数\n",
    "        # lr: 学習率\n",
    "\n",
    "        super().__init__()\n",
    "        \n",
    "        # 引数のnum_labelsとlrを保存。\n",
    "        # 例えば、self.hparams.lrでlrにアクセスできる。\n",
    "        # チェックポイント作成時にも自動で保存される。\n",
    "        self.save_hyperparameters() \n",
    "\n",
    "        # BERTのロード\n",
    "        self.bert = BertModel.from_pretrained(model_name)\n",
    "        self.classifier = nn.Linear(self.bert.config.hidden_size, num_class)\n",
    "        self.criterion = nn.CrossEntropyLoss()\n",
    "\n",
    "        # BertLayerモジュールの最後を勾配計算ありに変更\n",
    "        for param in self.bert.parameters():\n",
    "            param.requires_grad = False\n",
    "        for param in self.bert.encoder.layer[-1].parameters():\n",
    "            param.requires_grad = True\n",
    "\n",
    "    def forward(self, input_ids, attention_mask, labels=None):\n",
    "        output = self.bert(input_ids, attention_mask=attention_mask)\n",
    "        preds= self.classifier(output.pooler_output)\n",
    "        \n",
    "        loss = 0\n",
    "        if labels is not None:\n",
    "            loss = self.criterion(preds, labels)\n",
    "        #print(f\"tihi is {loss}\")\n",
    "        return loss, preds\n",
    "    \n",
    "       # trainのミニバッチに対して行う処理\n",
    "    def training_step(self, batch, batch_idx):\n",
    "        loss, preds = self.forward(input_ids=batch[\"input_ids\"],\n",
    "                                    attention_mask=batch[\"attention_mask\"],\n",
    "                                    labels=batch[\"labels\"])\n",
    "        self.log('train_loss', loss)\n",
    "        return {'loss': loss,\n",
    "                'batch_preds': preds,\n",
    "                'batch_labels': batch[\"labels\"]}\n",
    "\n",
    "    # validation、testでもtrain_stepと同じ処理を行う\n",
    "    def validation_step(self, batch, batch_idx):\n",
    "        loss, preds = self.forward(input_ids=batch[\"input_ids\"],\n",
    "                                    attention_mask=batch[\"attention_mask\"],\n",
    "                                    labels=batch[\"labels\"])\n",
    "        return {'loss': loss,\n",
    "                'batch_preds': preds,\n",
    "                'batch_labels': batch[\"labels\"]}\n",
    "\n",
    "    def test_step(self, batch, batch_idx):\n",
    "        loss, preds = self.forward(input_ids=batch[\"input_ids\"],\n",
    "                                    attention_mask=batch[\"attention_mask\"],\n",
    "                                    labels=batch[\"labels\"])\n",
    "        return {'loss': loss,\n",
    "                'batch_preds': preds,\n",
    "                'batch_labels': batch[\"labels\"]}\n",
    "\n",
    "    # epoch終了時にvalidationのlossとaccuracyを記録\n",
    "    def validation_epoch_end(self, outputs, mode=\"val\"):\n",
    "        # loss計算\n",
    "        epoch_preds = torch.cat([x['batch_preds'] for x in outputs])\n",
    "        epoch_labels = torch.cat([x['batch_labels'] for x in outputs])\n",
    "        epoch_loss = self.criterion(epoch_preds, epoch_labels)\n",
    "        self.log(f\"{mode}_loss\", epoch_loss, logger=True)\n",
    "\n",
    "        num_correct = (epoch_preds.argmax(dim=1) == epoch_labels).sum().item()\n",
    "        epoch_accuracy = num_correct / len(epoch_labels)\n",
    "        self.log(f\"{mode}_accuracy\", epoch_accuracy, logger=True)\n",
    "\n",
    "        \n",
    "\n",
    "    # testデータのlossとaccuracyを算出（validationの使いまわし）\n",
    "    def test_epoch_end(self, outputs):\n",
    "        return self.validation_epoch_end(outputs, \"test\")\n",
    "\n",
    "    # 学習に用いるオプティマイザを返す関数を書く。\n",
    "    def configure_optimizers(self):\n",
    "        return torch.optim.Adam(self.parameters(), lr=self.hparams.lr)"
   ]
  },
  {
   "cell_type": "code",
   "execution_count": 10,
   "metadata": {},
   "outputs": [],
   "source": [
    "best_model_path = '/home/is/shuntaro-o/dev/persons_move_analysis/models/Tokyo_model_ver2.ckpt'"
   ]
  },
  {
   "cell_type": "code",
   "execution_count": 11,
   "metadata": {},
   "outputs": [
    {
     "name": "stderr",
     "output_type": "stream",
     "text": [
      "/tmp/ipykernel_47732/2582238918.py:4: FutureWarning: The default value of regex will change from True to False in a future version.\n",
      "  df_Tokyo[x] = df_Tokyo[x].str.replace(r'[【】]', ' ')       # 【】の除去\n",
      "/tmp/ipykernel_47732/2582238918.py:5: FutureWarning: The default value of regex will change from True to False in a future version.\n",
      "  df_Tokyo[x] = df_Tokyo[x].str.replace(r'[（）()]', ' ')     # （）の除去\n",
      "/tmp/ipykernel_47732/2582238918.py:6: FutureWarning: The default value of regex will change from True to False in a future version.\n",
      "  df_Tokyo[x] = df_Tokyo[x].str.replace(r'[［］\\[\\]]', ' ')   # ［］の除去\n",
      "/tmp/ipykernel_47732/2582238918.py:7: FutureWarning: The default value of regex will change from True to False in a future version.\n",
      "  df_Tokyo[x] = df_Tokyo[x].str.replace(r'[@＠]\\w+', '')  # メンションの除去\n",
      "/tmp/ipykernel_47732/2582238918.py:9: FutureWarning: The default value of regex will change from True to False in a future version.\n",
      "  df_Tokyo[x] = df_Tokyo[x].str.replace(r'https?:\\/\\/.*?[\\r\\n ]', '')  # URLの除去\n",
      "/tmp/ipykernel_47732/2582238918.py:10: FutureWarning: The default value of regex will change from True to False in a future version.\n",
      "  df_Tokyo[x] = df_Tokyo[x].str.replace(r'http:\\/\\/.*?[\\r\\n ]', '')  # URLの除去\n"
     ]
    }
   ],
   "source": [
    "x = \"text\"\n",
    "df_Tokyo[x] = df_Tokyo[x].astype(str)\n",
    "df_Tokyo[x]=df_Tokyo[x].astype(str)\n",
    "df_Tokyo[x] = df_Tokyo[x].str.replace(r'[【】]', ' ')       # 【】の除去\n",
    "df_Tokyo[x] = df_Tokyo[x].str.replace(r'[（）()]', ' ')     # （）の除去\n",
    "df_Tokyo[x] = df_Tokyo[x].str.replace(r'[［］\\[\\]]', ' ')   # ［］の除去\n",
    "df_Tokyo[x] = df_Tokyo[x].str.replace(r'[@＠]\\w+', '')  # メンションの除去\n",
    "df_Tokyo[x]= df_Tokyo[x].str.replace(r'_', '')#underscodf_Tokyo[x].str \n",
    "df_Tokyo[x] = df_Tokyo[x].str.replace(r'https?:\\/\\/.*?[\\r\\n ]', '')  # URLの除去\n",
    "df_Tokyo[x] = df_Tokyo[x].str.replace(r'http:\\/\\/.*?[\\r\\n ]', '')  # URLの除去\n",
    "df_Tokyo[x] = df_Tokyo[x].str.replace(r'　', ' ')"
   ]
  },
  {
   "cell_type": "code",
   "execution_count": 12,
   "metadata": {},
   "outputs": [
    {
     "name": "stderr",
     "output_type": "stream",
     "text": [
      "Some weights of the model checkpoint at cl-tohoku/bert-base-japanese-whole-word-masking were not used when initializing BertModel: ['cls.predictions.transform.LayerNorm.weight', 'cls.predictions.transform.dense.weight', 'cls.predictions.transform.LayerNorm.bias', 'cls.predictions.transform.dense.bias', 'cls.seq_relationship.bias', 'cls.predictions.bias', 'cls.seq_relationship.weight', 'cls.predictions.decoder.weight']\n",
      "- This IS expected if you are initializing BertModel from the checkpoint of a model trained on another task or with another architecture (e.g. initializing a BertForSequenceClassification model from a BertForPreTraining model).\n",
      "- This IS NOT expected if you are initializing BertModel from the checkpoint of a model that you expect to be exactly identical (initializing a BertForSequenceClassification model from a BertForSequenceClassification model).\n"
     ]
    }
   ],
   "source": [
    "sentences_text_test=df_Tokyo.text.values\n",
    "list_estimate = []\n",
    "model = BertForSequenceClassifier_pl.load_from_checkpoint(best_model_path)\n",
    "bert=model.bert.cuda()\n",
    "classifier=model.classifier.cuda()\n",
    "for sentence in sentences_text_test:\n",
    "    encoding = tokenizer(\n",
    "    sentence,\n",
    "    padding = 'longest',\n",
    "    return_tensors='pt')\n",
    "    encoding = { k: v.cuda() for k, v in encoding.items() }\n",
    "    with torch.no_grad():\n",
    "        output = bert(**encoding)\n",
    "        ans=classifier(output.pooler_output)\n",
    "        ans = ans.to('cpu').detach().numpy().copy()\n",
    "        ans = ans.argmax()\n",
    "        ans = L.inverse_transform([ans])[0]\n",
    "        list_estimate.append(ans)"
   ]
  },
  {
   "cell_type": "code",
   "execution_count": 13,
   "metadata": {},
   "outputs": [],
   "source": [
    "list_estimate=pd.Series(list_estimate)\n",
    "df_Tokyo = df_Tokyo.reset_index(drop=True)\n",
    "df_Tokyo_adEstimate=pd.concat([df_Tokyo,list_estimate],axis=1)\n",
    "df_Tokyo_adEstimate=df_Tokyo_adEstimate.rename(columns={0: 'Tokyo_code'})"
   ]
  },
  {
   "cell_type": "code",
   "execution_count": null,
   "metadata": {},
   "outputs": [],
   "source": [
    "df_Tokyo_adEstimate.to_csv('/home/is/shuntaro-o/dev/persons_move_analysis/data/use_new_model/202271month_per_hour_noGeo_adEstimate_Tokyo_ad2zimethestimate.csv')"
   ]
  }
 ],
 "metadata": {
  "kernelspec": {
   "display_name": "Python 3.8.13 ('SharedTask')",
   "language": "python",
   "name": "python3"
  },
  "language_info": {
   "codemirror_mode": {
    "name": "ipython",
    "version": 3
   },
   "file_extension": ".py",
   "mimetype": "text/x-python",
   "name": "python",
   "nbconvert_exporter": "python",
   "pygments_lexer": "ipython3",
   "version": "3.8.13"
  },
  "orig_nbformat": 4,
  "vscode": {
   "interpreter": {
    "hash": "6feaf4af813783365efc585a6800850988678764fcb0bba12eca45fe4d31fdb0"
   }
  }
 },
 "nbformat": 4,
 "nbformat_minor": 2
}
